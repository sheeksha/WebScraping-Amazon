{
 "cells": [
  {
   "cell_type": "code",
   "execution_count": 1,
   "id": "37139bdc",
   "metadata": {},
   "outputs": [],
   "source": [
    "# Import libraries\n",
    "\n",
    "from bs4 import BeautifulSoup\n",
    "import requests\n",
    "import time\n",
    "import datetime\n",
    "\n",
    "\n",
    "import smtplib #sending email"
   ]
  },
  {
   "cell_type": "code",
   "execution_count": 2,
   "id": "8588d79c",
   "metadata": {},
   "outputs": [],
   "source": [
    "# Connect to the website\n",
    "\n",
    "url = 'https://www.amazon.com/Bburago-B18-38063N-pre-Built-Assorted-Colours/dp/B0BSNSKKGX/ref=sr_1_1?crid=29CI4WCW0J9SF&keywords=f1+car+model+mclaren+lando+norris&qid=1703566799&sprefix=f1+car+model+mclaren+lando+norr%2Caps%2C343&sr=8-1'\n",
    "\n",
    "# Get User agent for your computer at https://httpbin.org/get\n",
    "headers = {\"User-Agent\": \"Mozilla/5.0 (Windows NT 10.0; Win64; x64) AppleWebKit/537.36 (KHTML, like Gecko) Chrome/120.0.0.0 Safari/537.36\", \"Accept-Encoding\":\"gzip, deflate\", \"Accept\":\"text/html,application/xhtml+xml,application/xml;q=0.9,*/*;q=0.8\", \"DNT\":\"1\",\"Connection\":\"close\", \"Upgrade-Insecure-Requests\":\"1\"}"
   ]
  },
  {
   "cell_type": "code",
   "execution_count": 6,
   "id": "f76a8707",
   "metadata": {},
   "outputs": [],
   "source": [
    "page = requests.get(url, headers=headers)\n",
    "\n",
    "soup = BeautifulSoup(page.content, \"html.parser\")\n",
    "\n",
    "# print(soup)"
   ]
  },
  {
   "cell_type": "code",
   "execution_count": 7,
   "id": "dce41030",
   "metadata": {},
   "outputs": [],
   "source": [
    "soup_prettify = BeautifulSoup(soup.prettify(), \"html.parser\")\n",
    "\n",
    "# print(soup_prettify)"
   ]
  },
  {
   "cell_type": "code",
   "execution_count": 8,
   "id": "9fdf4ca0",
   "metadata": {},
   "outputs": [
    {
     "name": "stdout",
     "output_type": "stream",
     "text": [
      "\n",
      "              Bburago B18-38063N Formula 1 MCLAREN F1 MCL 36 (2022) Norris 1:43 Scale Die-Cast Collectible Race Car, Assorted Colours\n",
      "             \n",
      "\n",
      "\n",
      "                                          $18.99\n",
      "                                         \n",
      "\n",
      "\n",
      "\n",
      "\n",
      "                                           18\n",
      "                                           \n",
      "                                            .\n",
      "                                           \n",
      "\n",
      "\n",
      "                                           99\n",
      "                                          \n",
      "\n",
      "\n"
     ]
    }
   ],
   "source": [
    "title = soup_prettify.find(id='productTitle').get_text()\n",
    "price = soup_prettify.find(id='tp-tool-tip-subtotal-price-value').get_text()\n",
    "print(title)\n",
    "print(price)"
   ]
  },
  {
   "cell_type": "code",
   "execution_count": 9,
   "id": "53b5f096",
   "metadata": {},
   "outputs": [
    {
     "name": "stdout",
     "output_type": "stream",
     "text": [
      "Bburago B18-38063N Formula 1 MCLAREN F1 MCL 36 (2022) Norris 1:43 Scale Die-Cast Collectible Race Car, Assorted Colours\n",
      "18.99\n"
     ]
    }
   ],
   "source": [
    "title = title.strip()\n",
    "price = price.strip()[1:6]\n",
    "\n",
    "print(title)\n",
    "print(price)"
   ]
  },
  {
   "cell_type": "code",
   "execution_count": 10,
   "id": "29dd6c57",
   "metadata": {},
   "outputs": [
    {
     "name": "stdout",
     "output_type": "stream",
     "text": [
      "2024-01-03\n",
      "<module 'time' (built-in)>\n"
     ]
    }
   ],
   "source": [
    "today = datetime.date.today()\n",
    "t = datetime.datetime.now().time()\n",
    "print(today)\n",
    "print(time)"
   ]
  },
  {
   "cell_type": "code",
   "execution_count": 11,
   "id": "93de70db",
   "metadata": {},
   "outputs": [],
   "source": [
    "import csv\n",
    "\n",
    "header = ['Title', 'Price', 'Date', 'Time']\n",
    "data = [title, price, today, t]\n",
    "\n",
    "# type(data)\n",
    "\n",
    "with open('McLarenCarModelPrice.csv', 'w', newline='', encoding='UTF8') as f:\n",
    "    writer = csv.writer(f)\n",
    "    writer.writerow(header)\n",
    "    writer.writerow(data)\n",
    "    "
   ]
  },
  {
   "cell_type": "code",
   "execution_count": null,
   "id": "1986bf1c-e2d0-4eae-b4da-a16870a3bae8",
   "metadata": {},
   "outputs": [],
   "source": [
    "# Quick visualization of csv file\n",
    "\n",
    "import pandas\n",
    "\n",
    "df = pandas.read_csv(r\"C:\\Users\\MRT\\DataAnalystProjects\\McLarenCarModelPrice.csv\")\n",
    "\n",
    "df"
   ]
  },
  {
   "cell_type": "code",
   "execution_count": 27,
   "id": "918bb63b",
   "metadata": {},
   "outputs": [],
   "source": [
    "# Append new data to csv\n",
    "\n",
    "with open('McLarenCarModelPrice.csv', 'a+', newline='', encoding='UTF8') as f:\n",
    "    writer = csv.writer(f)\n",
    "    writer.writerow(data)"
   ]
  },
  {
   "cell_type": "code",
   "execution_count": 28,
   "id": "ede38ab0",
   "metadata": {},
   "outputs": [],
   "source": [
    "def check_price():\n",
    "    url = 'https://www.amazon.com/Bburago-B18-38063N-pre-Built-Assorted-Colours/dp/B0BSNSKKGX/ref=sr_1_1?crid=29CI4WCW0J9SF&keywords=f1+car+model+mclaren+lando+norris&qid=1703566799&sprefix=f1+car+model+mclaren+lando+norr%2Caps%2C343&sr=8-1'\n",
    "\n",
    "    headers = {\"User-Agent\": \"Mozilla/5.0 (Windows NT 10.0; Win64; x64) AppleWebKit/537.36 (KHTML, like Gecko) Chrome/120.0.0.0 Safari/537.36\", \"Accept-Encoding\":\"gzip, deflate\", \"Accept\":\"text/html,application/xhtml+xml,application/xml;q=0.9,*/*;q=0.8\", \"DNT\":\"1\",\"Connection\":\"close\", \"Upgrade-Insecure-Requests\":\"1\"}\n",
    "    \n",
    "    page = requests.get(url, headers=headers)\n",
    "\n",
    "    soup = BeautifulSoup(page.content, \"html.parser\")\n",
    "    \n",
    "    soup_prettify = BeautifulSoup(soup.prettify(), \"html.parser\")\n",
    "                                  \n",
    "    raw_title = soup_prettify.find(id='productTitle').get_text()\n",
    "\n",
    "    raw_price = soup_prettify.find(id='tp-tool-tip-subtotal-price-value').get_text()\n",
    "    \n",
    "    title = raw_title.strip()\n",
    "    \n",
    "    price = raw_price.strip()[1:6]\n",
    "                                  \n",
    "    today = datetime.date.today()\n",
    "\n",
    "    time = datetime.datetime.now().time()\n",
    "    \n",
    "    header = ['Title', 'Price', 'Date', 'Time']\n",
    "    \n",
    "    data = [title, price, today, time]\n",
    "\n",
    "    with open('McLarenCarModelPrice.csv', 'a+', newline='', encoding='UTF8') as f:\n",
    "        writer = csv.writer(f)\n",
    "        writer.writerow(data)\n",
    "        \n",
    "    if(float(price) < 15) :\n",
    "        send_mail()\n",
    "    "
   ]
  },
  {
   "cell_type": "code",
   "execution_count": null,
   "id": "30fca6b7",
   "metadata": {},
   "outputs": [],
   "source": [
    "# Create a timer to check website everyday\n",
    "import time\n",
    "while(True):\n",
    "    check_price()\n",
    "    time.sleep(86,400)\n",
    "#     time.sleep(86400)\n"
   ]
  },
  {
   "cell_type": "code",
   "execution_count": 30,
   "id": "1a98d512",
   "metadata": {},
   "outputs": [],
   "source": [
    "# Send an email when the product price reduces to $15.00\n",
    "\n",
    "def send_mail():\n",
    "    server = smtplib.SMTP_SSL('smtp.gmail.com', 465)\n",
    "    server.ehlo()\n",
    "    server.login('sheekshajoyseeree@gmail.com', 'XXXXXXXXXXXXXXXX')\n",
    "    \n",
    "    subject = \"Amazon Sales\"\n",
    "    body = \"The McLaren car model is now at $15.00! Now is your chance to buy!\"\n",
    "    \n",
    "    msg = f\"Subject: {subject}\\n\\n{body}\"\n",
    "    \n",
    "    server.sendmail('sheekshajoyseeree@gmail.com', msg)\n",
    "    "
   ]
  },
  {
   "cell_type": "code",
   "execution_count": null,
   "id": "95bac80d",
   "metadata": {},
   "outputs": [],
   "source": []
  },
  {
   "cell_type": "code",
   "execution_count": null,
   "id": "f535126a",
   "metadata": {},
   "outputs": [],
   "source": []
  },
  {
   "cell_type": "code",
   "execution_count": null,
   "id": "48106a35",
   "metadata": {},
   "outputs": [],
   "source": []
  }
 ],
 "metadata": {
  "kernelspec": {
   "display_name": "Python 3 (ipykernel)",
   "language": "python",
   "name": "python3"
  },
  "language_info": {
   "codemirror_mode": {
    "name": "ipython",
    "version": 3
   },
   "file_extension": ".py",
   "mimetype": "text/x-python",
   "name": "python",
   "nbconvert_exporter": "python",
   "pygments_lexer": "ipython3",
   "version": "3.11.5"
  }
 },
 "nbformat": 4,
 "nbformat_minor": 5
}
